{
 "cells": [
  {
   "cell_type": "code",
   "execution_count": 1,
   "source": [
    "import test_methods\n",
    "\n",
    "\"\"\"\n",
    "Upon object creation, the tester is already logged in with 3 accounts you can test on\n",
    "Their usernames are: meerkat, badger, and pangolin\n",
    "\n",
    "There are 4 functions you can use to test the API, get, loop_read, post, and delete.\n",
    "call help(tester.<func>) on any of them or look in the test_methods.py file to see how to use them\n",
    "\"\"\"\n",
    "\n",
    "tester = test_methods.TestAgent()"
   ],
   "outputs": [],
   "metadata": {
    "collapsed": true,
    "pycharm": {
     "name": "#%%\n"
    }
   }
  },
  {
   "cell_type": "code",
   "execution_count": 2,
   "source": [
    "slug = tester.post('meerkat', 'pangolin', 'how about now', 'definitely works')\n",
    "\n",
    "tester.loop_read(slug)\n",
    "\n",
    "slug = tester.post('meerkat', 'pangolin', 'how about now', 'definitely works')\n",
    "\n",
    "tester.loop_read(slug)\n",
    "\n",
    "tester.delete('meerkat', slug)\n",
    "\n",
    "tester.loop_read('deleted')"
   ],
   "outputs": [
    {
     "output_type": "stream",
     "name": "stdout",
     "text": [
      "sending messages\n",
      "{'id': 1, 'sender': {'id': 3, 'username': 'meerkat'}, 'recepient': {'id': 1, 'username': 'pangolin'}, 'timestamp': '2021-09-08T15:53:41.400817Z', 'title': 'how about now', 'body': 'definitely works'}\n",
      "reading\n",
      "checking meerkat's mailbox\n",
      "checking pangolin's mailbox\n",
      "checking badger's mailbox\n",
      "sending messages\n",
      "{'id': 2, 'sender': {'id': 3, 'username': 'meerkat'}, 'recepient': {'id': 1, 'username': 'pangolin'}, 'timestamp': '2021-09-08T15:53:43.410821Z', 'title': 'how about now', 'body': 'definitely works'}\n",
      "reading\n",
      "checking meerkat's mailbox\n",
      "checking pangolin's mailbox\n",
      "checking badger's mailbox\n",
      "deleting\n",
      "b''\n",
      "reading\n",
      "checking meerkat's mailbox\n",
      "checking pangolin's mailbox\n",
      "checking badger's mailbox\n"
     ]
    }
   ],
   "metadata": {
    "collapsed": false,
    "pycharm": {
     "name": "#%%\n"
    }
   }
  },
  {
   "cell_type": "code",
   "execution_count": 3,
   "source": [
    "tester.loop_read('read')"
   ],
   "outputs": [
    {
     "output_type": "stream",
     "name": "stdout",
     "text": [
      "reading\n",
      "checking meerkat's mailbox\n",
      "checking pangolin's mailbox\n",
      "checking badger's mailbox\n"
     ]
    }
   ],
   "metadata": {
    "collapsed": false,
    "pycharm": {
     "name": "#%%\n"
    }
   }
  },
  {
   "cell_type": "code",
   "execution_count": 4,
   "source": [
    "tester.loop_read(0)\n"
   ],
   "outputs": [
    {
     "output_type": "stream",
     "name": "stdout",
     "text": [
      "reading\n",
      "checking meerkat's mailbox\n",
      "checking pangolin's mailbox\n",
      "checking badger's mailbox\n"
     ]
    }
   ],
   "metadata": {
    "collapsed": false,
    "pycharm": {
     "name": "#%%\n"
    }
   }
  }
 ],
 "metadata": {
  "kernelspec": {
   "name": "python3",
   "display_name": "Python 3.8.2 64-bit"
  },
  "language_info": {
   "name": "python",
   "version": "3.8.2",
   "mimetype": "text/x-python",
   "codemirror_mode": {
    "name": "ipython",
    "version": 3
   },
   "pygments_lexer": "ipython3",
   "nbconvert_exporter": "python",
   "file_extension": ".py"
  },
  "interpreter": {
   "hash": "31f2aee4e71d21fbe5cf8b01ff0e069b9275f58929596ceb00d14d90e3e16cd6"
  }
 },
 "nbformat": 4,
 "nbformat_minor": 2
}